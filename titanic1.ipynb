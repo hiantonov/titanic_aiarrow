{
 "cells":[
  {
   "cell_type":"code",
   "source":[
    "! pip install kaggle"
   ],
   "execution_count":58,
   "outputs":[
    
   ],
   "metadata":{
    "datalore":{
     "node_id":"VeU1DtNGbFUW62OBbndm5L",
     "type":"CODE",
     "hide_input_from_viewers":false,
     "hide_output_from_viewers":false,
     "report_properties":{
      "rowId":"IlJtaIh95F00KgzMhEzO6t"
     }
    }
   }
  },
  {
   "cell_type":"code",
   "source":[
    "! mkdir ~\/.kaggle"
   ],
   "execution_count":59,
   "outputs":[
    
   ],
   "metadata":{
    "datalore":{
     "node_id":"A1loHwV56j6IVzW25La85B",
     "type":"CODE",
     "hide_input_from_viewers":false,
     "hide_output_from_viewers":false,
     "report_properties":{
      "rowId":"veMD9B4SzK9nu72nv0O7px"
     }
    }
   }
  },
  {
   "cell_type":"code",
   "source":[
    "! cp kaggle.json ~\/.kaggle\/"
   ],
   "execution_count":60,
   "outputs":[
    
   ],
   "metadata":{
    "datalore":{
     "node_id":"6hJBIeIrkfgd3jbsSPDaqp",
     "type":"CODE",
     "hide_input_from_viewers":false,
     "hide_output_from_viewers":false,
     "report_properties":{
      "rowId":"8zSxv9NPUAuVwMkWyOKITV"
     }
    }
   }
  },
  {
   "cell_type":"code",
   "source":[
    "! chmod 600 ~\/.kaggle\/kaggle.json"
   ],
   "execution_count":61,
   "outputs":[
    
   ],
   "metadata":{
    "datalore":{
     "node_id":"yxCCxhGfeAtGFbXRkHiLiu",
     "type":"CODE",
     "hide_input_from_viewers":false,
     "hide_output_from_viewers":false,
     "report_properties":{
      "rowId":"joWNDTIeWo1DpDzh6LyJ0Y"
     }
    }
   }
  },
  {
   "cell_type":"code",
   "source":[
    "!  kaggle competitions download -c titanic"
   ],
   "execution_count":62,
   "outputs":[
    
   ],
   "metadata":{
    "datalore":{
     "node_id":"FExsNLkLJBzS1a34vugW02",
     "type":"CODE",
     "hide_input_from_viewers":false,
     "hide_output_from_viewers":false,
     "report_properties":{
      "rowId":"dbSXr6T090ZJSAKPgpjcr9"
     }
    }
   }
  },
  {
   "cell_type":"code",
   "source":[
    "! unzip \"titanic.zip\""
   ],
   "execution_count":63,
   "outputs":[
    
   ],
   "metadata":{
    "datalore":{
     "node_id":"qoh6NZlUU1oZDorJHlPIDk",
     "type":"CODE",
     "hide_input_from_viewers":false,
     "hide_output_from_viewers":false,
     "report_properties":{
      "rowId":"lgAeqdzXob4Icnj0KceonJ"
     }
    }
   }
  },
  {
   "cell_type":"code",
   "source":[
    "import numpy as np\n",
    "import pandas as pd"
   ],
   "execution_count":65,
   "outputs":[
    
   ],
   "metadata":{
    "datalore":{
     "node_id":"ACb8zhZoiIre3A2rLvP0fb",
     "type":"CODE",
     "hide_input_from_viewers":false,
     "hide_output_from_viewers":false,
     "report_properties":{
      "rowId":"4Un8MvnMUmAMdWzeYsj6Dt"
     }
    }
   }
  },
  {
   "cell_type":"code",
   "source":[
    "\n",
    "df = pd.read_csv('train.csv')\n",
    "df.head(5)"
   ],
   "execution_count":66,
   "outputs":[
    
   ],
   "metadata":{
    "datalore":{
     "node_id":"TZxPc14I3EP3oVum8ClZJV",
     "type":"CODE",
     "hide_input_from_viewers":false,
     "hide_output_from_viewers":false,
     "report_properties":{
      "rowId":"QBuoLxREtnsmCDQImFbD6T"
     }
    }
   }
  },
  {
   "cell_type":"code",
   "source":[
    "y = df['Survived']\n",
    "data = df.drop(columns=['Survived'])"
   ],
   "execution_count":67,
   "outputs":[
    
   ],
   "metadata":{
    "datalore":{
     "node_id":"ahnozxPx5fDzCBIF6MoWEn",
     "type":"CODE",
     "hide_input_from_viewers":false,
     "hide_output_from_viewers":false,
     "report_properties":{
      "rowId":"otz0ICvMMrbX9uCF7Ltz1X"
     }
    }
   }
  },
  {
   "cell_type":"code",
   "source":[
    "data.head(10)"
   ],
   "execution_count":71,
   "outputs":[
    
   ],
   "metadata":{
    "datalore":{
     "node_id":"M9yXnW4SWgu9vCEjYnPVpK",
     "type":"CODE",
     "hide_input_from_viewers":false,
     "hide_output_from_viewers":false,
     "report_properties":{
      "rowId":"WVsOKBgofVykn77twbTeuo"
     }
    }
   }
  },
  {
   "cell_type":"code",
   "source":[
    "data = data.drop(columns=['Ticket', 'Cabin', 'Name', 'PassengerId'])\n",
    "data.head(10)"
   ],
   "execution_count":72,
   "outputs":[
    
   ],
   "metadata":{
    "datalore":{
     "node_id":"9zbOCh3M8ruBBXilAiG34x",
     "type":"CODE",
     "hide_input_from_viewers":false,
     "hide_output_from_viewers":false,
     "report_properties":{
      "rowId":"ZJj3LHP7DhvF8Ie9OAvr3M"
     }
    }
   }
  },
  {
   "cell_type":"code",
   "source":[
    "data.info()"
   ],
   "execution_count":73,
   "outputs":[
    
   ],
   "metadata":{
    "datalore":{
     "node_id":"6fYbf5tXQrbxWO5gk4HHzH",
     "type":"CODE",
     "hide_input_from_viewers":false,
     "hide_output_from_viewers":false,
     "report_properties":{
      "rowId":"UtJkGrpd1RK2hX9J7HDa9Y"
     }
    }
   }
  },
  {
   "cell_type":"code",
   "source":[
    "data['Age'].describe()"
   ],
   "execution_count":74,
   "outputs":[
    
   ],
   "metadata":{
    "datalore":{
     "node_id":"DNwCzQGvGzsROEKixL59kI",
     "type":"CODE",
     "hide_input_from_viewers":false,
     "hide_output_from_viewers":false,
     "report_properties":{
      "rowId":"jQ2t42MJWMZHUpaDtSFRBG"
     }
    }
   }
  },
  {
   "cell_type":"code",
   "source":[
    "fill_value = np.mean(data['Age'])\n",
    "data['Age'] = data['Age'].fillna(fill_value)\n",
    "data.head(10)"
   ],
   "execution_count":75,
   "outputs":[
    
   ],
   "metadata":{
    "datalore":{
     "node_id":"IiivF5SQNB3cykdPWu6N8g",
     "type":"CODE",
     "hide_input_from_viewers":false,
     "hide_output_from_viewers":false,
     "report_properties":{
      "rowId":"nsgjCBGBV5WwlumLQsgDo5"
     }
    }
   }
  },
  {
   "cell_type":"code",
   "source":[
    "data['Embarked'].unique()"
   ],
   "execution_count":76,
   "outputs":[
    
   ],
   "metadata":{
    "datalore":{
     "node_id":"SXrMSNHpqca43mQYsOHWag",
     "type":"CODE",
     "hide_input_from_viewers":false,
     "hide_output_from_viewers":false,
     "report_properties":{
      "rowId":"b5xrjkfv1Vh26rzKTTtJyL"
     }
    }
   }
  },
  {
   "cell_type":"code",
   "source":[
    "data['Embarked'].value_counts()"
   ],
   "execution_count":77,
   "outputs":[
    
   ],
   "metadata":{
    "datalore":{
     "node_id":"21099CReTpYZ5CKDvDj4SJ",
     "type":"CODE",
     "hide_input_from_viewers":false,
     "hide_output_from_viewers":false,
     "report_properties":{
      "rowId":"PrQFKAkVYYDxebtSjXVY5c"
     }
    }
   }
  },
  {
   "cell_type":"code",
   "source":[
    "data['Embarked'] = data['Embarked'].fillna('S')"
   ],
   "execution_count":78,
   "outputs":[
    
   ],
   "metadata":{
    "datalore":{
     "node_id":"dAE8EGj2JhkzXAjECClmcA",
     "type":"CODE",
     "hide_input_from_viewers":false,
     "hide_output_from_viewers":false,
     "report_properties":{
      "rowId":"BUEIYIXMIqXcvrIHXg31Yt"
     }
    }
   }
  },
  {
   "cell_type":"code",
   "source":[
    "data.info()"
   ],
   "execution_count":79,
   "outputs":[
    
   ],
   "metadata":{
    "datalore":{
     "node_id":"KQ4bpklPVWT21DUkjQNEO3",
     "type":"CODE",
     "hide_input_from_viewers":false,
     "hide_output_from_viewers":false,
     "report_properties":{
      "rowId":"MT5nweR9lFCkumXTUPw4pP"
     }
    }
   }
  },
  {
   "cell_type":"code",
   "source":[
    "sex_dict = {\n",
    "    'male': 1,\n",
    "    'female': 0\n",
    "}\n",
    "data['Sex'] = list(map(lambda x: sex_dict[x], data['Sex']))\n",
    "data.head(10)"
   ],
   "execution_count":80,
   "outputs":[
    
   ],
   "metadata":{
    "datalore":{
     "node_id":"FHDF31w547qMBn85erOdnq",
     "type":"CODE",
     "hide_input_from_viewers":false,
     "hide_output_from_viewers":false,
     "report_properties":{
      "rowId":"BIoicWM18p8ByXNVYtQQiQ"
     }
    }
   }
  },
  {
   "cell_type":"code",
   "source":[
    "from sklearn.preprocessing import LabelEncoder\n",
    "\n",
    "le = LabelEncoder()\n",
    "le.fit(data['Embarked'])\n",
    "data['Embarked'] = le.transform(data['Embarked'])\n",
    "\n",
    "data.head(10)"
   ],
   "execution_count":81,
   "outputs":[
    
   ],
   "metadata":{
    "datalore":{
     "node_id":"EhC4pooKOEsFKB7ZAuQqUH",
     "type":"CODE",
     "hide_input_from_viewers":false,
     "hide_output_from_viewers":false,
     "report_properties":{
      "rowId":"ohHMLxEoMcmgE3EDkkDMm0"
     }
    }
   }
  },
  {
   "cell_type":"code",
   "source":[
    "from sklearn.metrics import accuracy_score\n",
    "from sklearn.metrics import roc_auc_score\n",
    "from sklearn.metrics import precision_score\n",
    "from sklearn.metrics import recall_score"
   ],
   "execution_count":82,
   "outputs":[
    
   ],
   "metadata":{
    "datalore":{
     "node_id":"H4MKQYGTeg4B9c6oJFIZyX",
     "type":"CODE",
     "hide_input_from_viewers":false,
     "hide_output_from_viewers":false,
     "report_properties":{
      "rowId":"eYOpF2e7YAqRsTOOGYiY7T"
     }
    }
   }
  },
  {
   "cell_type":"code",
   "source":[
    "from sklearn.neighbors import KNeighborsClassifier\n",
    "from sklearn.linear_model import LogisticRegression\n",
    "from sklearn.ensemble import GradientBoostingClassifier"
   ],
   "execution_count":83,
   "outputs":[
    
   ],
   "metadata":{
    "datalore":{
     "node_id":"0InYEOC2DPAJgXFVxEYCs4",
     "type":"CODE",
     "hide_input_from_viewers":false,
     "hide_output_from_viewers":false,
     "report_properties":{
      "rowId":"KR5ibzjVULYsPoVr3oYXXK"
     }
    }
   }
  },
  {
   "cell_type":"code",
   "source":[
    "from sklearn.model_selection import train_test_split\n",
    "from sklearn.model_selection import cross_val_score\n",
    "from sklearn.model_selection import GridSearchCV\n",
    "from sklearn.model_selection import KFold"
   ],
   "execution_count":84,
   "outputs":[
    
   ],
   "metadata":{
    "datalore":{
     "node_id":"GkzVav2jRrVJNgIOmo0KAx",
     "type":"CODE",
     "hide_input_from_viewers":false,
     "hide_output_from_viewers":false,
     "report_properties":{
      "rowId":"qgm8UpDy5qY7CBsMBFysqp"
     }
    }
   }
  },
  {
   "cell_type":"code",
   "source":[
    "knn = KNeighborsClassifier(n_neighbors=5)\n",
    "\n",
    "knn.fit(data, y)\n",
    "knn_preds = knn.predict(data)\n",
    "knn_preds_proba = knn.predict_proba(data)[:, 1]\n",
    "\n",
    "print('accuracy', accuracy_score(y, knn_preds))\n",
    "print('roc_auc', roc_auc_score(y, knn_preds_proba))"
   ],
   "execution_count":85,
   "outputs":[
    
   ],
   "metadata":{
    "datalore":{
     "node_id":"jBuW0WoJqCZzKmvHS8YieC",
     "type":"CODE",
     "hide_input_from_viewers":false,
     "hide_output_from_viewers":false,
     "report_properties":{
      "rowId":"asltwazOjphk1tMCzCVqV3"
     }
    }
   }
  },
  {
   "cell_type":"code",
   "source":[
    "knn_preds[:20]"
   ],
   "execution_count":86,
   "outputs":[
    
   ],
   "metadata":{
    "datalore":{
     "node_id":"0Qxyv9smkOkxJo4f5euh7Y",
     "type":"CODE",
     "hide_input_from_viewers":false,
     "hide_output_from_viewers":false,
     "report_properties":{
      "rowId":"z7FpfXj1l5nfQbCvr2Ccuz"
     }
    }
   }
  },
  {
   "cell_type":"code",
   "source":[
    "knn_preds_proba[:20]"
   ],
   "execution_count":87,
   "outputs":[
    
   ],
   "metadata":{
    "datalore":{
     "node_id":"jpPos1kpriDqfZtrLoxx5D",
     "type":"CODE",
     "hide_input_from_viewers":false,
     "hide_output_from_viewers":false,
     "report_properties":{
      "rowId":"DZi0MtmUt0oI7JsgIA4KY7"
     }
    }
   }
  },
  {
   "cell_type":"code",
   "source":[
    "cross_val_scores = cross_val_score(knn, data, y, cv=5, scoring='roc_auc')\n",
    "print(cross_val_scores)\n",
    "print(np.mean(cross_val_scores))"
   ],
   "execution_count":88,
   "outputs":[
    
   ],
   "metadata":{
    "datalore":{
     "node_id":"2OGr6lZGPQTkaF31DYVj4z",
     "type":"CODE",
     "hide_input_from_viewers":false,
     "hide_output_from_viewers":false,
     "report_properties":{
      "rowId":"rWBfoayylEYNlPe0hozQ4A"
     }
    }
   }
  },
  {
   "cell_type":"code",
   "source":[
    "lr = LogisticRegression()\n",
    "\n",
    "lr.fit(data, y)\n",
    "lr_preds = lr.predict(data)\n",
    "lr_preds_proba = lr.predict_proba(data)[:, 1]\n",
    "\n",
    "print('accuracy', accuracy_score(y, lr_preds))\n",
    "print('roc_auc', roc_auc_score(y, lr_preds_proba))\n",
    "\n",
    "cross_val_scores = cross_val_score(lr, data, y, cv=5, scoring='roc_auc')\n",
    "print(cross_val_scores)\n",
    "print(np.mean(cross_val_scores))"
   ],
   "execution_count":89,
   "outputs":[
    
   ],
   "metadata":{
    "datalore":{
     "node_id":"qpe7dOsV2pDYyc2uQCIMdh",
     "type":"CODE",
     "hide_input_from_viewers":false,
     "hide_output_from_viewers":false,
     "report_properties":{
      "rowId":"Vq437wlqE0ZAR8pH3F0IVJ"
     }
    }
   }
  },
  {
   "cell_type":"code",
   "source":[
    "gbdt = GradientBoostingClassifier()\n",
    "\n",
    "gbdt.fit(data, y)\n",
    "gbdt_preds = gbdt.predict(data)\n",
    "gbdt_preds_proba = gbdt.predict_proba(data)[:, 1]\n",
    "\n",
    "print('accuracy', accuracy_score(y, gbdt_preds))\n",
    "print('roc_auc', roc_auc_score(y, gbdt_preds_proba))\n",
    "\n",
    "cross_val_scores = cross_val_score(gbdt, data, y, cv=5, scoring='roc_auc')\n",
    "print(cross_val_scores)\n",
    "print(np.mean(cross_val_scores))"
   ],
   "execution_count":90,
   "outputs":[
    
   ],
   "metadata":{
    "datalore":{
     "node_id":"Ib9VvUPx9nyI6QpVl2OncD",
     "type":"CODE",
     "hide_input_from_viewers":false,
     "hide_output_from_viewers":false,
     "report_properties":{
      "rowId":"zLk47mInGjiFp5ZqajSzqh"
     }
    }
   }
  },
  {
   "cell_type":"code",
   "source":[
    "gbdt = GradientBoostingClassifier()\n",
    "kfold = KFold(n_splits=5, shuffle=True, random_state=123)"
   ],
   "execution_count":91,
   "outputs":[
    
   ],
   "metadata":{
    "datalore":{
     "node_id":"63Wy9jPfRrVBrhLRM0ULP9",
     "type":"CODE",
     "hide_input_from_viewers":false,
     "hide_output_from_viewers":false,
     "report_properties":{
      "rowId":"zqZmcPP1fRsScFxy06tEJL"
     }
    }
   }
  },
  {
   "cell_type":"code",
   "source":[
    "param_grid = {\n",
    "    \"max_depth\": [2, 3],\n",
    "    \"n_estimators\": [50, 100, 150]\n",
    "    # \"learning_rate\": [0.01, 0.05, 0.1],\n",
    "    # \"min_child_weight\":[4,5,6],\n",
    "    # \"subsample\": [0.8, 0.9, 1]\n",
    "}"
   ],
   "execution_count":92,
   "outputs":[
    
   ],
   "metadata":{
    "datalore":{
     "node_id":"Ao9wwh8Pf37uLeq3XdcHBQ",
     "type":"CODE",
     "hide_input_from_viewers":false,
     "hide_output_from_viewers":false,
     "report_properties":{
      "rowId":"fPzjxKP41WtszswGPidNzb"
     }
    }
   }
  },
  {
   "cell_type":"code",
   "source":[
    "CV_gbdt = GridSearchCV(estimator=gbdt, param_grid=param_grid,\n",
    "                      scoring='roc_auc', cv=kfold, verbose = 1000)"
   ],
   "execution_count":93,
   "outputs":[
    
   ],
   "metadata":{
    "datalore":{
     "node_id":"BWpIcQmvs5LbrKZtpY4aFp",
     "type":"CODE",
     "hide_input_from_viewers":false,
     "hide_output_from_viewers":false,
     "report_properties":{
      "rowId":"UCXmigodM3Pg5u8OCXljeF"
     }
    }
   }
  },
  {
   "cell_type":"code",
   "source":[
    "CV_gbdt.fit(data, y)"
   ],
   "execution_count":94,
   "outputs":[
    
   ],
   "metadata":{
    "datalore":{
     "node_id":"c9iTZWKKXmoZ4f7EAES5ni",
     "type":"CODE",
     "hide_input_from_viewers":false,
     "hide_output_from_viewers":false,
     "report_properties":{
      "rowId":"ehEMpjNl3MzE1VQCWyLX9m"
     }
    }
   }
  },
  {
   "cell_type":"code",
   "source":[
    "data_test = pd.read_csv('test.csv')\n",
    "data_test.head()"
   ],
   "execution_count":95,
   "outputs":[
    
   ],
   "metadata":{
    "datalore":{
     "node_id":"O2V1n3VFKMdPsM1t3goud6",
     "type":"CODE",
     "hide_input_from_viewers":false,
     "hide_output_from_viewers":false,
     "report_properties":{
      "rowId":"hhplL7u1hvXFQceLLRcFXZ"
     }
    }
   }
  },
  {
   "cell_type":"code",
   "source":[
    "passenger_id = data_test['PassengerId']"
   ],
   "execution_count":96,
   "outputs":[
    
   ],
   "metadata":{
    "datalore":{
     "node_id":"riaOMwUStjOf2eqXAtcktw",
     "type":"CODE",
     "hide_input_from_viewers":false,
     "hide_output_from_viewers":false,
     "report_properties":{
      "rowId":"nYNplqt7TKlW8FNKeuK8Hb"
     }
    }
   }
  },
  {
   "cell_type":"code",
   "source":[
    "data_test = data_test.drop(columns=['PassengerId', 'Name', 'Ticket', 'Cabin'])\n",
    "data_test.head()"
   ],
   "execution_count":97,
   "outputs":[
    
   ],
   "metadata":{
    "datalore":{
     "node_id":"vQnE1A12CEZMYvSUEAh2St",
     "type":"CODE",
     "hide_input_from_viewers":false,
     "hide_output_from_viewers":false,
     "report_properties":{
      "rowId":"93Cq0tVhh2XKdEv35oMHyQ"
     }
    }
   }
  },
  {
   "cell_type":"code",
   "source":[
    "data_test['Age'] = data_test['Age'].fillna(fill_value)\n",
    "data_test['Embarked'] = data_test['Embarked'].fillna('S')\n",
    "\n",
    "data_test['Fare'] = data_test['Fare'].fillna(np.mean(data['Fare']))"
   ],
   "execution_count":98,
   "outputs":[
    
   ],
   "metadata":{
    "datalore":{
     "node_id":"aLYPdHJVboMt08ynhInhLH",
     "type":"CODE",
     "hide_input_from_viewers":false,
     "hide_output_from_viewers":false,
     "report_properties":{
      "rowId":"GHwGHXVLkGxIbsiDKphIXI"
     }
    }
   }
  },
  {
   "cell_type":"code",
   "source":[
    "data_test['Sex'] = list(map(lambda x: sex_dict[x], data_test['Sex']))\n",
    "data_test['Embarked'] = le.transform(data_test['Embarked'])"
   ],
   "execution_count":99,
   "outputs":[
    
   ],
   "metadata":{
    "datalore":{
     "node_id":"0vdPMqVjMKIPdmgV4VesfH",
     "type":"CODE",
     "hide_input_from_viewers":false,
     "hide_output_from_viewers":false,
     "report_properties":{
      "rowId":"WwdA4HGz5eM8zjiwkmDjgD"
     }
    }
   }
  },
  {
   "cell_type":"code",
   "source":[
    "data_test.head()"
   ],
   "execution_count":100,
   "outputs":[
    
   ],
   "metadata":{
    "datalore":{
     "node_id":"bueXpEZ5Z2qGaAGwaOdkOy",
     "type":"CODE",
     "hide_input_from_viewers":false,
     "hide_output_from_viewers":false,
     "report_properties":{
      "rowId":"Ha9yoD6PWIPap5Kectg54y"
     }
    }
   }
  },
  {
   "cell_type":"code",
   "source":[
    "y_pred_lr = lr.predict(data_test)\n",
    "y_pred_knn = knn.predict(data_test)\n",
    "y_pred_gbdt = CV_gbdt.predict(data_test)"
   ],
   "execution_count":101,
   "outputs":[
    
   ],
   "metadata":{
    "datalore":{
     "node_id":"XOteBgh7hPYpHNEBssL9VT",
     "type":"CODE",
     "hide_input_from_viewers":false,
     "hide_output_from_viewers":false,
     "report_properties":{
      "rowId":"6sgPS2dOrpgtgO7HfFSHmb"
     }
    }
   }
  },
  {
   "cell_type":"code",
   "source":[
    "y_pred_gbdt = pd.DataFrame(y_pred_gbdt, columns=['Survived'])\n",
    "y_pred_gbdt['PassengerId'] = passenger_id\n",
    "y_pred_gbdt = y_pred_gbdt[['PassengerId', 'Survived']]\n",
    "y_pred_gbdt.to_csv('submission_gbdt.csv', index=None)\n",
    "\n",
    "y_pred_gbdt.head()"
   ],
   "execution_count":102,
   "outputs":[
    
   ],
   "metadata":{
    "datalore":{
     "node_id":"htzhUlsyZdCYyGIs361OrW",
     "type":"CODE",
     "hide_input_from_viewers":false,
     "hide_output_from_viewers":false,
     "report_properties":{
      "rowId":"FE9s1rMKjhPsy5qJkYXoY7"
     }
    }
   }
  }
 ],
 "metadata":{
  "kernelspec":{
   "display_name":"Python",
   "language":"python",
   "name":"python"
  },
  "datalore":{
   "computation_mode":"JUPYTER",
   "package_manager":"pip",
   "base_environment":"default",
   "packages":[
    
   ],
   "report_row_ids":[
    "IlJtaIh95F00KgzMhEzO6t",
    "veMD9B4SzK9nu72nv0O7px",
    "8zSxv9NPUAuVwMkWyOKITV",
    "joWNDTIeWo1DpDzh6LyJ0Y",
    "dbSXr6T090ZJSAKPgpjcr9",
    "lgAeqdzXob4Icnj0KceonJ",
    "4Un8MvnMUmAMdWzeYsj6Dt",
    "QBuoLxREtnsmCDQImFbD6T",
    "otz0ICvMMrbX9uCF7Ltz1X",
    "WVsOKBgofVykn77twbTeuo",
    "ZJj3LHP7DhvF8Ie9OAvr3M",
    "UtJkGrpd1RK2hX9J7HDa9Y",
    "jQ2t42MJWMZHUpaDtSFRBG",
    "nsgjCBGBV5WwlumLQsgDo5",
    "b5xrjkfv1Vh26rzKTTtJyL",
    "PrQFKAkVYYDxebtSjXVY5c",
    "BUEIYIXMIqXcvrIHXg31Yt",
    "MT5nweR9lFCkumXTUPw4pP",
    "BIoicWM18p8ByXNVYtQQiQ",
    "ohHMLxEoMcmgE3EDkkDMm0",
    "eYOpF2e7YAqRsTOOGYiY7T",
    "KR5ibzjVULYsPoVr3oYXXK",
    "qgm8UpDy5qY7CBsMBFysqp",
    "asltwazOjphk1tMCzCVqV3",
    "z7FpfXj1l5nfQbCvr2Ccuz",
    "DZi0MtmUt0oI7JsgIA4KY7",
    "rWBfoayylEYNlPe0hozQ4A",
    "Vq437wlqE0ZAR8pH3F0IVJ",
    "zLk47mInGjiFp5ZqajSzqh",
    "zqZmcPP1fRsScFxy06tEJL",
    "fPzjxKP41WtszswGPidNzb",
    "UCXmigodM3Pg5u8OCXljeF",
    "ehEMpjNl3MzE1VQCWyLX9m",
    "hhplL7u1hvXFQceLLRcFXZ",
    "nYNplqt7TKlW8FNKeuK8Hb",
    "93Cq0tVhh2XKdEv35oMHyQ",
    "GHwGHXVLkGxIbsiDKphIXI",
    "WwdA4HGz5eM8zjiwkmDjgD",
    "Ha9yoD6PWIPap5Kectg54y",
    "6sgPS2dOrpgtgO7HfFSHmb",
    "FE9s1rMKjhPsy5qJkYXoY7"
   ],
   "version":3
  }
 },
 "nbformat":4,
 "nbformat_minor":4
}